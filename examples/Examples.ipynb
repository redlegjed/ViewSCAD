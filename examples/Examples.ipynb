{
 "cells": [
  {
   "cell_type": "markdown",
   "metadata": {},
   "source": [
    "# Import SolidPython and viewscad:"
   ]
  },
  {
   "cell_type": "code",
   "execution_count": 1,
   "metadata": {},
   "outputs": [],
   "source": [
    "from solid import *\n",
    "import viewscad\n",
    "\n",
    "r = viewscad.Renderer()"
   ]
  },
  {
   "cell_type": "markdown",
   "metadata": {},
   "source": [
    "## Basic rendering\n",
    "Let's create an object:"
   ]
  },
  {
   "cell_type": "code",
   "execution_count": 2,
   "metadata": {},
   "outputs": [
    {
     "name": "stderr",
     "output_type": "stream",
     "text": [
      "/home/redlegjed/anaconda3/envs/graphics3d_2/lib/python3.10/site-packages/jupyter_client/session.py:716: UserWarning: Message serialization failed with:\n",
      "Out of range float values are not JSON compliant\n",
      "Supporting this message is deprecated in jupyter-client 7, please make sure your message is JSON-compliant\n",
      "  content = self.pack(content)\n"
     ]
    },
    {
     "data": {
      "application/vnd.jupyter.widget-view+json": {
       "model_id": "15e5627b56ba4111ba00bf932f1ff600",
       "version_major": 2,
       "version_minor": 0
      },
      "text/plain": [
       "VBox(children=(HTML(value=''), Renderer(background='#cccc88', background_opacity=0.0, camera=PerspectiveCamera…"
      ]
     },
     "metadata": {},
     "output_type": "display_data"
    }
   ],
   "source": [
    "c = cylinder(r=5, h=2)\n",
    "c -= minkowski() (translate([0, 0, 1]) (cylinder(r=3, h=1.5)), sphere(r=0.2))\n",
    "c -= cylinder(r=1, h=3, center=True)\n",
    "c -= translate([0, -1, 0]) (cube([6, 2, 3]))\n",
    "r.render(c)"
   ]
  },
  {
   "cell_type": "markdown",
   "metadata": {},
   "source": [
    "## Output to OpenSCAD\n",
    "The renderer can also render raw OpenSCAD code, and save objects to .STL files:"
   ]
  },
  {
   "cell_type": "code",
   "execution_count": 3,
   "metadata": {},
   "outputs": [],
   "source": [
    "scad_code = '''\n",
    "union() {\n",
    "    cube([1,1,10]);\n",
    "    sphere(r=2);\n",
    "}\n",
    "'''\n",
    "r.render(scad_code, outfile='tmp.stl')"
   ]
  },
  {
   "cell_type": "markdown",
   "metadata": {},
   "source": [
    "## A more complex object: a Sierpinski tetrahedron:"
   ]
  },
  {
   "cell_type": "code",
   "execution_count": 4,
   "metadata": {},
   "outputs": [
    {
     "name": "stderr",
     "output_type": "stream",
     "text": [
      "EXPORT-WARNING: Exported object may not be a valid 2-manifold and may need repair\n"
     ]
    },
    {
     "data": {
      "application/vnd.jupyter.widget-view+json": {
       "model_id": "9c63ed8e16c64df58650bc5074691af0",
       "version_major": 2,
       "version_minor": 0
      },
      "text/plain": [
       "VBox(children=(HTML(value=''), Renderer(background='#cccc88', background_opacity=0.0, camera=PerspectiveCamera…"
      ]
     },
     "metadata": {},
     "output_type": "display_data"
    }
   ],
   "source": [
    "import numpy as np\n",
    "\n",
    "points=np.array([[0,0,0], [1,0,0],[0.5,0.5*np.sqrt(3), 0], [0.5, 0.5/np.sqrt(3), np.sqrt(2./3)]])\n",
    "def tetra():\n",
    "    return polyhedron(points=points, faces=[[0,1,2], [0,3,1], [0,2,3], [1,3,2]])\n",
    "\n",
    "def sierpinski(depth, size):\n",
    "    if depth == 0:\n",
    "        return scale(size) (tetra())\n",
    "    else:\n",
    "        obj = None\n",
    "        for point in points:\n",
    "            o = translate(size/2*point) (sierpinski(depth-1, size/2))\n",
    "            if obj is None: obj = o\n",
    "            else: obj += o\n",
    "        \n",
    "        return obj\n",
    "    \n",
    "r.render(sierpinski(3, 1.))"
   ]
  },
  {
   "cell_type": "markdown",
   "metadata": {},
   "source": [
    "## Introspection\n",
    "Let's create a tetrahedron with rounded edges:"
   ]
  },
  {
   "cell_type": "code",
   "execution_count": 5,
   "metadata": {},
   "outputs": [
    {
     "data": {
      "application/vnd.jupyter.widget-view+json": {
       "model_id": "c2d8994afb9e476bbe451532d939290b",
       "version_major": 2,
       "version_minor": 0
      },
      "text/plain": [
       "VBox(children=(HTML(value=''), Renderer(background='#cccc88', background_opacity=0.0, camera=PerspectiveCamera…"
      ]
     },
     "metadata": {},
     "output_type": "display_data"
    }
   ],
   "source": [
    "t = hull() (sum([translate(x) (sphere(r=1.0)) for x in [[0,0,0], [20, 0, 0], [0, 20, 0], [0, 0, 30]]]))\n",
    "r.render(t)\n",
    "         "
   ]
  },
  {
   "cell_type": "markdown",
   "metadata": {},
   "source": [
    "But say we want the big face to be downwards.  We could of course do some trigonometry, but we can also just double-click on the big face, where we learn the face index, which in my case was 4 (but could be different for you).  We can then create a new object with this face rotated downwards:"
   ]
  },
  {
   "cell_type": "code",
   "execution_count": 6,
   "metadata": {},
   "outputs": [
    {
     "data": {
      "application/vnd.jupyter.widget-view+json": {
       "model_id": "6209b4b7b7744956a5b266a69bc18f9f",
       "version_major": 2,
       "version_minor": 0
      },
      "text/plain": [
       "VBox(children=(HTML(value=''), Renderer(background='#cccc88', background_opacity=0.0, camera=PerspectiveCamera…"
      ]
     },
     "metadata": {},
     "output_type": "display_data"
    }
   ],
   "source": [
    "t2 = r.rotate_face_down(t, 4) (t)\n",
    "r.render(t2)"
   ]
  },
  {
   "cell_type": "markdown",
   "metadata": {},
   "source": [
    "Let's say we had a cone which we wanted to emerge from one of the sides of t2, our new object. We can do this with the `Renderer.place_on()` method:"
   ]
  },
  {
   "cell_type": "code",
   "execution_count": 7,
   "metadata": {},
   "outputs": [
    {
     "data": {
      "application/vnd.jupyter.widget-view+json": {
       "model_id": "84750acd5dfd4b88b3a0f182d1d09e7c",
       "version_major": 2,
       "version_minor": 0
      },
      "text/plain": [
       "VBox(children=(HTML(value=''), Renderer(background='#cccc88', background_opacity=0.0, camera=PerspectiveCamera…"
      ]
     },
     "metadata": {},
     "output_type": "display_data"
    }
   ],
   "source": [
    "cone = cylinder(h=15., r1=4.0, r2=0.0)\n",
    "r.render(cone)"
   ]
  },
  {
   "cell_type": "code",
   "execution_count": 8,
   "metadata": {},
   "outputs": [
    {
     "data": {
      "application/vnd.jupyter.widget-view+json": {
       "model_id": "1bdea29928ec466db119400a1c9641ec",
       "version_major": 2,
       "version_minor": 0
      },
      "text/plain": [
       "VBox(children=(HTML(value=''), Renderer(background='#cccc88', background_opacity=0.0, camera=PerspectiveCamera…"
      ]
     },
     "metadata": {},
     "output_type": "display_data"
    }
   ],
   "source": [
    "new_obj = r.place_on(cone, t2, align_face1=28, align_face2=25, point1=r.get_face_centroid(cone, 28), point2=r.get_face_centroid(t2, 25))\n",
    "r.render(new_obj)"
   ]
  },
  {
   "cell_type": "markdown",
   "metadata": {},
   "source": [
    "## Changing Color themes\n",
    "\n",
    "Colors can be changed using the Renderer objects _theme_ argument."
   ]
  },
  {
   "cell_type": "code",
   "execution_count": 9,
   "metadata": {},
   "outputs": [],
   "source": [
    "# Use a dark theme renderer\n",
    "r_dark = viewscad.Renderer(theme='dark')"
   ]
  },
  {
   "cell_type": "code",
   "execution_count": 10,
   "metadata": {},
   "outputs": [
    {
     "name": "stderr",
     "output_type": "stream",
     "text": [
      "/home/redlegjed/anaconda3/envs/graphics3d_2/lib/python3.10/site-packages/jupyter_client/session.py:716: UserWarning: Message serialization failed with:\n",
      "Out of range float values are not JSON compliant\n",
      "Supporting this message is deprecated in jupyter-client 7, please make sure your message is JSON-compliant\n",
      "  content = self.pack(content)\n"
     ]
    },
    {
     "data": {
      "application/vnd.jupyter.widget-view+json": {
       "model_id": "d49cf3cc6e9e44d38c876cbe21213d0c",
       "version_major": 2,
       "version_minor": 0
      },
      "text/plain": [
       "VBox(children=(HTML(value=''), Renderer(background='#cccc88', background_opacity=0.0, camera=PerspectiveCamera…"
      ]
     },
     "metadata": {},
     "output_type": "display_data"
    }
   ],
   "source": [
    "c = cylinder(r=5, h=2)\n",
    "c -= minkowski() (translate([0, 0, 1]) (cylinder(r=3, h=1.5)), sphere(r=0.2))\n",
    "c -= cylinder(r=1, h=3, center=True)\n",
    "c -= translate([0, -1, 0]) (cube([6, 2, 3]))\n",
    "r_dark.render(c)"
   ]
  },
  {
   "cell_type": "code",
   "execution_count": 11,
   "metadata": {},
   "outputs": [
    {
     "data": {
      "text/plain": [
       "ViewScad theme [dark]\n",
       "------------------------------\n",
       "AXIS_X_COLOR : #ff00ff\n",
       "AXIS_Y_COLOR : #ffff00\n",
       "AXIS_Z_COLOR : #00ffff\n",
       "BACKGROUND_COLOR : #3D3D3D\n",
       "OBJ_COLOR : #f7d62c\n",
       "SELECTED_EDGE_COLOR : #6666ff\n",
       "SELECTED_FACE_COLOR : #ff0000\n",
       "SELECTED_VERTEX_COLOR : #00ff00\n",
       "TEXT_COLOR : #ffffff"
      ]
     },
     "execution_count": 11,
     "metadata": {},
     "output_type": "execute_result"
    }
   ],
   "source": [
    "# Display colors used in theme\n",
    "r_dark.theme"
   ]
  },
  {
   "cell_type": "markdown",
   "metadata": {},
   "source": [
    "### Custom theming\n",
    "Custom colors can be set by creating a _Theme_ object and passing it to the _Renderer_"
   ]
  },
  {
   "cell_type": "code",
   "execution_count": 19,
   "metadata": {},
   "outputs": [],
   "source": [
    "# Create custom theme\n",
    "# - shown here with all available colors that can be changed.\n",
    "my_theme = viewscad.renderer.Theme('My_Theme_name',\n",
    "    AXIS_X_COLOR='#ff00ff',\n",
    "    AXIS_Y_COLOR='#ffff00',\n",
    "    AXIS_Z_COLOR='#00ffff',\n",
    "    BACKGROUND_COLOR='#020202',\n",
    "    OBJ_COLOR='#ff0000',\n",
    "    SELECTED_EDGE_COLOR='#6666ff',\n",
    "    SELECTED_FACE_COLOR='#ff0000',\n",
    "    SELECTED_VERTEX_COLOR='#00ff00',\n",
    "    TEXT_COLOR='#ffffff',\n",
    ")\n",
    "\n",
    "my_renderer = viewscad.Renderer(theme=my_theme)"
   ]
  },
  {
   "cell_type": "code",
   "execution_count": 20,
   "metadata": {},
   "outputs": [
    {
     "data": {
      "application/vnd.jupyter.widget-view+json": {
       "model_id": "ed7b1b7aef364072855032e3219869c5",
       "version_major": 2,
       "version_minor": 0
      },
      "text/plain": [
       "VBox(children=(HTML(value=''), Renderer(background='#cccc88', background_opacity=0.0, camera=PerspectiveCamera…"
      ]
     },
     "metadata": {},
     "output_type": "display_data"
    }
   ],
   "source": [
    "my_renderer.render(c)"
   ]
  }
 ],
 "metadata": {
  "kernelspec": {
   "display_name": "Python 3 (ipykernel)",
   "language": "python",
   "name": "python3"
  },
  "language_info": {
   "codemirror_mode": {
    "name": "ipython",
    "version": 3
   },
   "file_extension": ".py",
   "mimetype": "text/x-python",
   "name": "python",
   "nbconvert_exporter": "python",
   "pygments_lexer": "ipython3",
   "version": "3.10.1"
  }
 },
 "nbformat": 4,
 "nbformat_minor": 4
}
